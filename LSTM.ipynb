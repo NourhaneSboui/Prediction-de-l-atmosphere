{
  "cells": [
    {
      "cell_type": "code",
      "execution_count": null,
      "metadata": {
        "id": "567Gzph4szyU"
      },
      "outputs": [],
      "source": [
        "import math \n",
        "import numpy as np\n",
        "import pandas as pd\n",
        "from sklearn.preprocessing import MinMaxScaler \n",
        "from keras.models import Sequential \n",
        "from keras.layers import Dense, LSTM\n",
        "import matplotlib.pyplot as plt \n",
        "plt.style.use('fivethirtyeight')"
      ]
    },
    {
      "cell_type": "code",
      "execution_count": null,
      "metadata": {
        "id": "aWMPH90WszyX"
      },
      "outputs": [],
      "source": [
        "f1=pd.read_csv(r'data2.csv')\n",
        "f=pd.read_csv(r'data1.csv')"
      ]
    },
    {
      "cell_type": "code",
      "execution_count": null,
      "metadata": {
        "id": "48BPYHw9szyY"
      },
      "outputs": [],
      "source": [
        "f.YEAR=f.YEAR.astype('str')\n",
        "f.MO=f.MO.astype('str')\n",
        "f.DY=f.DY.astype('str')\n",
        "f['date']=f.YEAR+'/'+f.MO+'/'+f.DY\n",
        "f.date=pd.to_datetime(f.date)"
      ]
    },
    {
      "cell_type": "code",
      "execution_count": null,
      "metadata": {
        "id": "VMMytz2mszyZ"
      },
      "outputs": [],
      "source": [
        "f1.YEAR=f1.YEAR.astype('str')\n",
        "f1.MO=f1.MO.astype('str')\n",
        "f1.DY=f1.DY.astype('str')\n",
        "f1['date']=f1.YEAR+'/'+f1.MO+'/'+f1.DY\n",
        "f1.date=pd.to_datetime(f1.date)"
      ]
    },
    {
      "cell_type": "code",
      "execution_count": null,
      "metadata": {
        "id": "g7qsacrrszyZ"
      },
      "outputs": [],
      "source": [
        "f.merge(f1,how='left',left_on='date',right_on='date')\n",
        "\n",
        "df=f.merge(f1,how='left',left_on='date',right_on='date')\n",
        "\n",
        "df.isna().sum()\n",
        "df.to_csv(r'C:\\Users\\new.csv')\n",
        "\n",
        "data=df.drop(columns=['LAT_y', 'LON_y', 'YEAR_y', 'MO_y', 'DY_y'], axis=1)"
      ]
    },
    {
      "cell_type": "code",
      "execution_count": null,
      "metadata": {
        "colab": {
          "base_uri": "https://localhost:8080/",
          "height": 488
        },
        "id": "Xume2MSBszya",
        "outputId": "ab001124-0eb0-452a-b1ff-d691c338fe47"
      },
      "outputs": [
        {
          "output_type": "execute_result",
          "data": {
            "text/plain": [
              "          LAT_x     LON_x YEAR_x MO_x DY_x  PRECTOT  QV2M   RH2M      PS  \\\n",
              "0      36.78551  10.15781   1989    1    1     0.40  6.43  72.48  101.87   \n",
              "1      36.78551  10.15781   1989    1    2     0.19  6.53  78.22  101.87   \n",
              "2      36.78551  10.15781   1989    1    3     0.33  6.21  74.63  102.18   \n",
              "3      36.78551  10.15781   1989    1    4     0.12  6.59  81.43  102.42   \n",
              "4      36.78551  10.15781   1989    1    5     0.43  6.16  80.64  102.12   \n",
              "...         ...       ...    ...  ...  ...      ...   ...    ...     ...   \n",
              "11378  36.78551  10.15781   2020    2   26     0.10  7.33  74.54  100.45   \n",
              "11379  36.78551  10.15781   2020    2   27     0.03  6.18  67.61  100.96   \n",
              "11380  36.78551  10.15781   2020    2   28     0.00  6.85  71.36  101.04   \n",
              "11381  36.78551  10.15781   2020    2   29     0.01  6.92  64.74  100.80   \n",
              "11382  36.78551  10.15781   2020    3    1     0.00  6.60  59.61  100.52   \n",
              "\n",
              "       T2M_RANGE  ...  WS10M_RANGE  WS50M_MIN  WS10M_MIN  WS50M_MAX  \\\n",
              "0           5.64  ...         2.28       3.40       2.45       6.48   \n",
              "1           6.43  ...         3.03       3.44       2.49       6.52   \n",
              "2           5.74  ...         1.17       2.20       2.06       4.64   \n",
              "3           4.44  ...         1.66       1.09       0.89       3.50   \n",
              "4           5.54  ...         4.14       0.32       0.17       5.56   \n",
              "...          ...  ...          ...        ...        ...        ...   \n",
              "11378       7.90  ...         4.75       6.39       3.51      10.09   \n",
              "11379       8.14  ...         4.57       2.70       1.91       9.12   \n",
              "11380      11.03  ...         4.06       5.61       3.64       9.49   \n",
              "11381      15.41  ...         6.01       1.43       0.87       8.36   \n",
              "11382      13.24  ...         4.09       1.98       1.66       7.59   \n",
              "\n",
              "       WS10M_MAX  WS50M WS10M    KT  CLRSKY_SFC_SW_DWN  ALLSKY_SFC_SW_DWN  \n",
              "0           4.73   5.47  3.78  0.23               3.05               1.04  \n",
              "1           5.52   4.96  3.63  0.42               2.33               1.89  \n",
              "2           3.23   3.64  2.68  0.50               3.03               2.26  \n",
              "3           2.55   2.06  1.56  0.24               3.08               1.08  \n",
              "4           4.31   3.52  2.66  0.33               2.96               1.51  \n",
              "...          ...    ...   ...   ...                ...                ...  \n",
              "11378       8.26   8.38  5.83  0.56            -999.00               3.91  \n",
              "11379       6.47   6.74  4.96  0.52            -999.00               3.63  \n",
              "11380       7.70   8.21  5.69  0.68               4.85               4.79  \n",
              "11381       6.88   4.45  3.33  0.68            -999.00               4.87  \n",
              "11382       5.75   5.34  3.44  0.66               4.76               4.72  \n",
              "\n",
              "[11383 rows x 28 columns]"
            ],
            "text/html": [
              "\n",
              "  <div id=\"df-c9914a50-764a-40e7-9adc-b3458067994e\">\n",
              "    <div class=\"colab-df-container\">\n",
              "      <div>\n",
              "<style scoped>\n",
              "    .dataframe tbody tr th:only-of-type {\n",
              "        vertical-align: middle;\n",
              "    }\n",
              "\n",
              "    .dataframe tbody tr th {\n",
              "        vertical-align: top;\n",
              "    }\n",
              "\n",
              "    .dataframe thead th {\n",
              "        text-align: right;\n",
              "    }\n",
              "</style>\n",
              "<table border=\"1\" class=\"dataframe\">\n",
              "  <thead>\n",
              "    <tr style=\"text-align: right;\">\n",
              "      <th></th>\n",
              "      <th>LAT_x</th>\n",
              "      <th>LON_x</th>\n",
              "      <th>YEAR_x</th>\n",
              "      <th>MO_x</th>\n",
              "      <th>DY_x</th>\n",
              "      <th>PRECTOT</th>\n",
              "      <th>QV2M</th>\n",
              "      <th>RH2M</th>\n",
              "      <th>PS</th>\n",
              "      <th>T2M_RANGE</th>\n",
              "      <th>...</th>\n",
              "      <th>WS10M_RANGE</th>\n",
              "      <th>WS50M_MIN</th>\n",
              "      <th>WS10M_MIN</th>\n",
              "      <th>WS50M_MAX</th>\n",
              "      <th>WS10M_MAX</th>\n",
              "      <th>WS50M</th>\n",
              "      <th>WS10M</th>\n",
              "      <th>KT</th>\n",
              "      <th>CLRSKY_SFC_SW_DWN</th>\n",
              "      <th>ALLSKY_SFC_SW_DWN</th>\n",
              "    </tr>\n",
              "  </thead>\n",
              "  <tbody>\n",
              "    <tr>\n",
              "      <th>0</th>\n",
              "      <td>36.78551</td>\n",
              "      <td>10.15781</td>\n",
              "      <td>1989</td>\n",
              "      <td>1</td>\n",
              "      <td>1</td>\n",
              "      <td>0.40</td>\n",
              "      <td>6.43</td>\n",
              "      <td>72.48</td>\n",
              "      <td>101.87</td>\n",
              "      <td>5.64</td>\n",
              "      <td>...</td>\n",
              "      <td>2.28</td>\n",
              "      <td>3.40</td>\n",
              "      <td>2.45</td>\n",
              "      <td>6.48</td>\n",
              "      <td>4.73</td>\n",
              "      <td>5.47</td>\n",
              "      <td>3.78</td>\n",
              "      <td>0.23</td>\n",
              "      <td>3.05</td>\n",
              "      <td>1.04</td>\n",
              "    </tr>\n",
              "    <tr>\n",
              "      <th>1</th>\n",
              "      <td>36.78551</td>\n",
              "      <td>10.15781</td>\n",
              "      <td>1989</td>\n",
              "      <td>1</td>\n",
              "      <td>2</td>\n",
              "      <td>0.19</td>\n",
              "      <td>6.53</td>\n",
              "      <td>78.22</td>\n",
              "      <td>101.87</td>\n",
              "      <td>6.43</td>\n",
              "      <td>...</td>\n",
              "      <td>3.03</td>\n",
              "      <td>3.44</td>\n",
              "      <td>2.49</td>\n",
              "      <td>6.52</td>\n",
              "      <td>5.52</td>\n",
              "      <td>4.96</td>\n",
              "      <td>3.63</td>\n",
              "      <td>0.42</td>\n",
              "      <td>2.33</td>\n",
              "      <td>1.89</td>\n",
              "    </tr>\n",
              "    <tr>\n",
              "      <th>2</th>\n",
              "      <td>36.78551</td>\n",
              "      <td>10.15781</td>\n",
              "      <td>1989</td>\n",
              "      <td>1</td>\n",
              "      <td>3</td>\n",
              "      <td>0.33</td>\n",
              "      <td>6.21</td>\n",
              "      <td>74.63</td>\n",
              "      <td>102.18</td>\n",
              "      <td>5.74</td>\n",
              "      <td>...</td>\n",
              "      <td>1.17</td>\n",
              "      <td>2.20</td>\n",
              "      <td>2.06</td>\n",
              "      <td>4.64</td>\n",
              "      <td>3.23</td>\n",
              "      <td>3.64</td>\n",
              "      <td>2.68</td>\n",
              "      <td>0.50</td>\n",
              "      <td>3.03</td>\n",
              "      <td>2.26</td>\n",
              "    </tr>\n",
              "    <tr>\n",
              "      <th>3</th>\n",
              "      <td>36.78551</td>\n",
              "      <td>10.15781</td>\n",
              "      <td>1989</td>\n",
              "      <td>1</td>\n",
              "      <td>4</td>\n",
              "      <td>0.12</td>\n",
              "      <td>6.59</td>\n",
              "      <td>81.43</td>\n",
              "      <td>102.42</td>\n",
              "      <td>4.44</td>\n",
              "      <td>...</td>\n",
              "      <td>1.66</td>\n",
              "      <td>1.09</td>\n",
              "      <td>0.89</td>\n",
              "      <td>3.50</td>\n",
              "      <td>2.55</td>\n",
              "      <td>2.06</td>\n",
              "      <td>1.56</td>\n",
              "      <td>0.24</td>\n",
              "      <td>3.08</td>\n",
              "      <td>1.08</td>\n",
              "    </tr>\n",
              "    <tr>\n",
              "      <th>4</th>\n",
              "      <td>36.78551</td>\n",
              "      <td>10.15781</td>\n",
              "      <td>1989</td>\n",
              "      <td>1</td>\n",
              "      <td>5</td>\n",
              "      <td>0.43</td>\n",
              "      <td>6.16</td>\n",
              "      <td>80.64</td>\n",
              "      <td>102.12</td>\n",
              "      <td>5.54</td>\n",
              "      <td>...</td>\n",
              "      <td>4.14</td>\n",
              "      <td>0.32</td>\n",
              "      <td>0.17</td>\n",
              "      <td>5.56</td>\n",
              "      <td>4.31</td>\n",
              "      <td>3.52</td>\n",
              "      <td>2.66</td>\n",
              "      <td>0.33</td>\n",
              "      <td>2.96</td>\n",
              "      <td>1.51</td>\n",
              "    </tr>\n",
              "    <tr>\n",
              "      <th>...</th>\n",
              "      <td>...</td>\n",
              "      <td>...</td>\n",
              "      <td>...</td>\n",
              "      <td>...</td>\n",
              "      <td>...</td>\n",
              "      <td>...</td>\n",
              "      <td>...</td>\n",
              "      <td>...</td>\n",
              "      <td>...</td>\n",
              "      <td>...</td>\n",
              "      <td>...</td>\n",
              "      <td>...</td>\n",
              "      <td>...</td>\n",
              "      <td>...</td>\n",
              "      <td>...</td>\n",
              "      <td>...</td>\n",
              "      <td>...</td>\n",
              "      <td>...</td>\n",
              "      <td>...</td>\n",
              "      <td>...</td>\n",
              "      <td>...</td>\n",
              "    </tr>\n",
              "    <tr>\n",
              "      <th>11378</th>\n",
              "      <td>36.78551</td>\n",
              "      <td>10.15781</td>\n",
              "      <td>2020</td>\n",
              "      <td>2</td>\n",
              "      <td>26</td>\n",
              "      <td>0.10</td>\n",
              "      <td>7.33</td>\n",
              "      <td>74.54</td>\n",
              "      <td>100.45</td>\n",
              "      <td>7.90</td>\n",
              "      <td>...</td>\n",
              "      <td>4.75</td>\n",
              "      <td>6.39</td>\n",
              "      <td>3.51</td>\n",
              "      <td>10.09</td>\n",
              "      <td>8.26</td>\n",
              "      <td>8.38</td>\n",
              "      <td>5.83</td>\n",
              "      <td>0.56</td>\n",
              "      <td>-999.00</td>\n",
              "      <td>3.91</td>\n",
              "    </tr>\n",
              "    <tr>\n",
              "      <th>11379</th>\n",
              "      <td>36.78551</td>\n",
              "      <td>10.15781</td>\n",
              "      <td>2020</td>\n",
              "      <td>2</td>\n",
              "      <td>27</td>\n",
              "      <td>0.03</td>\n",
              "      <td>6.18</td>\n",
              "      <td>67.61</td>\n",
              "      <td>100.96</td>\n",
              "      <td>8.14</td>\n",
              "      <td>...</td>\n",
              "      <td>4.57</td>\n",
              "      <td>2.70</td>\n",
              "      <td>1.91</td>\n",
              "      <td>9.12</td>\n",
              "      <td>6.47</td>\n",
              "      <td>6.74</td>\n",
              "      <td>4.96</td>\n",
              "      <td>0.52</td>\n",
              "      <td>-999.00</td>\n",
              "      <td>3.63</td>\n",
              "    </tr>\n",
              "    <tr>\n",
              "      <th>11380</th>\n",
              "      <td>36.78551</td>\n",
              "      <td>10.15781</td>\n",
              "      <td>2020</td>\n",
              "      <td>2</td>\n",
              "      <td>28</td>\n",
              "      <td>0.00</td>\n",
              "      <td>6.85</td>\n",
              "      <td>71.36</td>\n",
              "      <td>101.04</td>\n",
              "      <td>11.03</td>\n",
              "      <td>...</td>\n",
              "      <td>4.06</td>\n",
              "      <td>5.61</td>\n",
              "      <td>3.64</td>\n",
              "      <td>9.49</td>\n",
              "      <td>7.70</td>\n",
              "      <td>8.21</td>\n",
              "      <td>5.69</td>\n",
              "      <td>0.68</td>\n",
              "      <td>4.85</td>\n",
              "      <td>4.79</td>\n",
              "    </tr>\n",
              "    <tr>\n",
              "      <th>11381</th>\n",
              "      <td>36.78551</td>\n",
              "      <td>10.15781</td>\n",
              "      <td>2020</td>\n",
              "      <td>2</td>\n",
              "      <td>29</td>\n",
              "      <td>0.01</td>\n",
              "      <td>6.92</td>\n",
              "      <td>64.74</td>\n",
              "      <td>100.80</td>\n",
              "      <td>15.41</td>\n",
              "      <td>...</td>\n",
              "      <td>6.01</td>\n",
              "      <td>1.43</td>\n",
              "      <td>0.87</td>\n",
              "      <td>8.36</td>\n",
              "      <td>6.88</td>\n",
              "      <td>4.45</td>\n",
              "      <td>3.33</td>\n",
              "      <td>0.68</td>\n",
              "      <td>-999.00</td>\n",
              "      <td>4.87</td>\n",
              "    </tr>\n",
              "    <tr>\n",
              "      <th>11382</th>\n",
              "      <td>36.78551</td>\n",
              "      <td>10.15781</td>\n",
              "      <td>2020</td>\n",
              "      <td>3</td>\n",
              "      <td>1</td>\n",
              "      <td>0.00</td>\n",
              "      <td>6.60</td>\n",
              "      <td>59.61</td>\n",
              "      <td>100.52</td>\n",
              "      <td>13.24</td>\n",
              "      <td>...</td>\n",
              "      <td>4.09</td>\n",
              "      <td>1.98</td>\n",
              "      <td>1.66</td>\n",
              "      <td>7.59</td>\n",
              "      <td>5.75</td>\n",
              "      <td>5.34</td>\n",
              "      <td>3.44</td>\n",
              "      <td>0.66</td>\n",
              "      <td>4.76</td>\n",
              "      <td>4.72</td>\n",
              "    </tr>\n",
              "  </tbody>\n",
              "</table>\n",
              "<p>11383 rows × 28 columns</p>\n",
              "</div>\n",
              "      <button class=\"colab-df-convert\" onclick=\"convertToInteractive('df-c9914a50-764a-40e7-9adc-b3458067994e')\"\n",
              "              title=\"Convert this dataframe to an interactive table.\"\n",
              "              style=\"display:none;\">\n",
              "        \n",
              "  <svg xmlns=\"http://www.w3.org/2000/svg\" height=\"24px\"viewBox=\"0 0 24 24\"\n",
              "       width=\"24px\">\n",
              "    <path d=\"M0 0h24v24H0V0z\" fill=\"none\"/>\n",
              "    <path d=\"M18.56 5.44l.94 2.06.94-2.06 2.06-.94-2.06-.94-.94-2.06-.94 2.06-2.06.94zm-11 1L8.5 8.5l.94-2.06 2.06-.94-2.06-.94L8.5 2.5l-.94 2.06-2.06.94zm10 10l.94 2.06.94-2.06 2.06-.94-2.06-.94-.94-2.06-.94 2.06-2.06.94z\"/><path d=\"M17.41 7.96l-1.37-1.37c-.4-.4-.92-.59-1.43-.59-.52 0-1.04.2-1.43.59L10.3 9.45l-7.72 7.72c-.78.78-.78 2.05 0 2.83L4 21.41c.39.39.9.59 1.41.59.51 0 1.02-.2 1.41-.59l7.78-7.78 2.81-2.81c.8-.78.8-2.07 0-2.86zM5.41 20L4 18.59l7.72-7.72 1.47 1.35L5.41 20z\"/>\n",
              "  </svg>\n",
              "      </button>\n",
              "      \n",
              "  <style>\n",
              "    .colab-df-container {\n",
              "      display:flex;\n",
              "      flex-wrap:wrap;\n",
              "      gap: 12px;\n",
              "    }\n",
              "\n",
              "    .colab-df-convert {\n",
              "      background-color: #E8F0FE;\n",
              "      border: none;\n",
              "      border-radius: 50%;\n",
              "      cursor: pointer;\n",
              "      display: none;\n",
              "      fill: #1967D2;\n",
              "      height: 32px;\n",
              "      padding: 0 0 0 0;\n",
              "      width: 32px;\n",
              "    }\n",
              "\n",
              "    .colab-df-convert:hover {\n",
              "      background-color: #E2EBFA;\n",
              "      box-shadow: 0px 1px 2px rgba(60, 64, 67, 0.3), 0px 1px 3px 1px rgba(60, 64, 67, 0.15);\n",
              "      fill: #174EA6;\n",
              "    }\n",
              "\n",
              "    [theme=dark] .colab-df-convert {\n",
              "      background-color: #3B4455;\n",
              "      fill: #D2E3FC;\n",
              "    }\n",
              "\n",
              "    [theme=dark] .colab-df-convert:hover {\n",
              "      background-color: #434B5C;\n",
              "      box-shadow: 0px 1px 3px 1px rgba(0, 0, 0, 0.15);\n",
              "      filter: drop-shadow(0px 1px 2px rgba(0, 0, 0, 0.3));\n",
              "      fill: #FFFFFF;\n",
              "    }\n",
              "  </style>\n",
              "\n",
              "      <script>\n",
              "        const buttonEl =\n",
              "          document.querySelector('#df-c9914a50-764a-40e7-9adc-b3458067994e button.colab-df-convert');\n",
              "        buttonEl.style.display =\n",
              "          google.colab.kernel.accessAllowed ? 'block' : 'none';\n",
              "\n",
              "        async function convertToInteractive(key) {\n",
              "          const element = document.querySelector('#df-c9914a50-764a-40e7-9adc-b3458067994e');\n",
              "          const dataTable =\n",
              "            await google.colab.kernel.invokeFunction('convertToInteractive',\n",
              "                                                     [key], {});\n",
              "          if (!dataTable) return;\n",
              "\n",
              "          const docLinkHtml = 'Like what you see? Visit the ' +\n",
              "            '<a target=\"_blank\" href=https://colab.research.google.com/notebooks/data_table.ipynb>data table notebook</a>'\n",
              "            + ' to learn more about interactive tables.';\n",
              "          element.innerHTML = '';\n",
              "          dataTable['output_type'] = 'display_data';\n",
              "          await google.colab.output.renderOutput(dataTable, element);\n",
              "          const docLink = document.createElement('div');\n",
              "          docLink.innerHTML = docLinkHtml;\n",
              "          element.appendChild(docLink);\n",
              "        }\n",
              "      </script>\n",
              "    </div>\n",
              "  </div>\n",
              "  "
            ]
          },
          "metadata": {},
          "execution_count": 30
        }
      ],
      "source": [
        "data"
      ]
    },
    {
      "cell_type": "code",
      "execution_count": null,
      "metadata": {
        "id": "QMR-VTU9szyb"
      },
      "outputs": [],
      "source": [
        "data=data.set_index('date')"
      ]
    },
    {
      "cell_type": "code",
      "execution_count": null,
      "metadata": {
        "colab": {
          "base_uri": "https://localhost:8080/"
        },
        "id": "mDYskur3szyb",
        "outputId": "20a843c2-adb7-4efc-9fc8-36f6b36ec86c"
      },
      "outputs": [
        {
          "output_type": "execute_result",
          "data": {
            "text/plain": [
              "LAT_x                False\n",
              "LON_x                False\n",
              "YEAR_x               False\n",
              "MO_x                 False\n",
              "DY_x                 False\n",
              "PRECTOT              False\n",
              "QV2M                 False\n",
              "RH2M                 False\n",
              "PS                   False\n",
              "T2M_RANGE            False\n",
              "TS                   False\n",
              "T2MDEW               False\n",
              "T2MWET               False\n",
              "T2M_MAX              False\n",
              "T2M_MIN              False\n",
              "T2M                  False\n",
              "WS50M_RANGE          False\n",
              "WS10M_RANGE          False\n",
              "WS50M_MIN            False\n",
              "WS10M_MIN            False\n",
              "WS50M_MAX            False\n",
              "WS10M_MAX            False\n",
              "WS50M                False\n",
              "WS10M                False\n",
              "KT                   False\n",
              "CLRSKY_SFC_SW_DWN    False\n",
              "ALLSKY_SFC_SW_DWN    False\n",
              "dtype: bool"
            ]
          },
          "metadata": {},
          "execution_count": 32
        }
      ],
      "source": [
        "data.isnull().any()"
      ]
    },
    {
      "cell_type": "code",
      "execution_count": null,
      "metadata": {
        "colab": {
          "base_uri": "https://localhost:8080/"
        },
        "id": "XIYf-zWWszyd",
        "outputId": "7297222b-1b54-499f-a2a3-e710b6180557"
      },
      "outputs": [
        {
          "output_type": "execute_result",
          "data": {
            "text/plain": [
              "(11383, 17)"
            ]
          },
          "metadata": {},
          "execution_count": 33
        }
      ],
      "source": [
        "f.shape"
      ]
    },
    {
      "cell_type": "code",
      "execution_count": null,
      "metadata": {
        "colab": {
          "base_uri": "https://localhost:8080/",
          "height": 441
        },
        "id": "CtAb0Vk-szyd",
        "outputId": "707ff3cc-ac6f-4c24-e5fd-a06d0999ae00"
      },
      "outputs": [
        {
          "output_type": "display_data",
          "data": {
            "text/plain": [
              "<Figure size 1152x432 with 1 Axes>"
            ],
            "image/png": "[encoded data removed]"
          },
          "metadata": {}
        }
      ],
      "source": [
        "plt.figure(figsize=(16,6))\n",
        "plt.title ('T2M')\n",
        "plt.plot(f['T2M'])\n",
        "plt.xlabel('Date', fontsize=18)\n",
        "plt.ylabel('T2M', fontsize=18)\n",
        "plt.show()"
      ]
    },
    {
      "cell_type": "code",
      "execution_count": null,
      "metadata": {
        "colab": {
          "base_uri": "https://localhost:8080/"
        },
        "id": "IXGRiBDKszye",
        "outputId": "af88a3ae-bff9-4dfd-f43c-06908a9f7f13"
      },
      "outputs": [
        {
          "output_type": "execute_result",
          "data": {
            "text/plain": [
              "9107"
            ]
          },
          "metadata": {},
          "execution_count": 35
        }
      ],
      "source": [
        "#create new dataframe with only t2m column \n",
        "data=f.filter(['T2M'])\n",
        "#convert to array \n",
        "dataset = data.values\n",
        "#train longueur\n",
        "training_data_len = math.ceil( len(dataset) * .8)\n",
        "training_data_len\n"
      ]
    },
    {
      "cell_type": "code",
      "execution_count": null,
      "metadata": {
        "colab": {
          "base_uri": "https://localhost:8080/"
        },
        "id": "DB0dguqhszye",
        "outputId": "5b0cd34e-df9b-4661-c030-89f0a08edb2b"
      },
      "outputs": [
        {
          "output_type": "execute_result",
          "data": {
            "text/plain": [
              "array([[0.27019868],\n",
              "       [0.24006623],\n",
              "       [0.23940397],\n",
              "       ...,\n",
              "       [0.30562914],\n",
              "       [0.35993377],\n",
              "       [0.37649007]])"
            ]
          },
          "metadata": {},
          "execution_count": 36
        }
      ],
      "source": [
        "#scale the data \n",
        "scaler = MinMaxScaler (feature_range = (0,1))\n",
        "scaled_data= scaler.fit_transform(dataset)\n",
        "scaled_data"
      ]
    },
    {
      "cell_type": "code",
      "execution_count": null,
      "metadata": {
        "colab": {
          "base_uri": "https://localhost:8080/"
        },
        "id": "zP8BobVtszye",
        "outputId": "b55d8e12-b90a-4988-b337-91f1fa382356"
      },
      "outputs": [
        {
          "output_type": "stream",
          "name": "stdout",
          "text": [
            "[array([0.27019868, 0.24006623, 0.23940397, 0.22715232, 0.19701987,\n",
            "       0.18774834, 0.20927152, 0.23476821, 0.2384106 , 0.26225166,\n",
            "       0.25728477, 0.25794702, 0.24900662, 0.26092715, 0.24900662,\n",
            "       0.2307947 , 0.2192053 , 0.24933775, 0.26490066, 0.25927152,\n",
            "       0.24834437, 0.2281457 , 0.18576159, 0.21821192, 0.22913907,\n",
            "       0.23278146, 0.21688742, 0.20463576, 0.2115894 , 0.20198675,\n",
            "       0.20033113, 0.19205298, 0.1897351 , 0.20596026, 0.22748344,\n",
            "       0.21986755, 0.23311258, 0.21655629, 0.22218543, 0.21456954,\n",
            "       0.21490066, 0.2281457 , 0.24635762, 0.22086093, 0.24536424,\n",
            "       0.19470199, 0.20066225, 0.25198675, 0.22384106, 0.27019868,\n",
            "       0.29470199, 0.32350993, 0.29470199, 0.27913907, 0.29768212,\n",
            "       0.32384106, 0.37284768, 0.30562914, 0.30099338, 0.37019868])]\n",
            "[0.35331125827814575]\n",
            "\n",
            "[array([0.27019868, 0.24006623, 0.23940397, 0.22715232, 0.19701987,\n",
            "       0.18774834, 0.20927152, 0.23476821, 0.2384106 , 0.26225166,\n",
            "       0.25728477, 0.25794702, 0.24900662, 0.26092715, 0.24900662,\n",
            "       0.2307947 , 0.2192053 , 0.24933775, 0.26490066, 0.25927152,\n",
            "       0.24834437, 0.2281457 , 0.18576159, 0.21821192, 0.22913907,\n",
            "       0.23278146, 0.21688742, 0.20463576, 0.2115894 , 0.20198675,\n",
            "       0.20033113, 0.19205298, 0.1897351 , 0.20596026, 0.22748344,\n",
            "       0.21986755, 0.23311258, 0.21655629, 0.22218543, 0.21456954,\n",
            "       0.21490066, 0.2281457 , 0.24635762, 0.22086093, 0.24536424,\n",
            "       0.19470199, 0.20066225, 0.25198675, 0.22384106, 0.27019868,\n",
            "       0.29470199, 0.32350993, 0.29470199, 0.27913907, 0.29768212,\n",
            "       0.32384106, 0.37284768, 0.30562914, 0.30099338, 0.37019868]), array([0.24006623, 0.23940397, 0.22715232, 0.19701987, 0.18774834,\n",
            "       0.20927152, 0.23476821, 0.2384106 , 0.26225166, 0.25728477,\n",
            "       0.25794702, 0.24900662, 0.26092715, 0.24900662, 0.2307947 ,\n",
            "       0.2192053 , 0.24933775, 0.26490066, 0.25927152, 0.24834437,\n",
            "       0.2281457 , 0.18576159, 0.21821192, 0.22913907, 0.23278146,\n",
            "       0.21688742, 0.20463576, 0.2115894 , 0.20198675, 0.20033113,\n",
            "       0.19205298, 0.1897351 , 0.20596026, 0.22748344, 0.21986755,\n",
            "       0.23311258, 0.21655629, 0.22218543, 0.21456954, 0.21490066,\n",
            "       0.2281457 , 0.24635762, 0.22086093, 0.24536424, 0.19470199,\n",
            "       0.20066225, 0.25198675, 0.22384106, 0.27019868, 0.29470199,\n",
            "       0.32350993, 0.29470199, 0.27913907, 0.29768212, 0.32384106,\n",
            "       0.37284768, 0.30562914, 0.30099338, 0.37019868, 0.35331126])]\n",
            "[0.35331125827814575, 0.33774834437086093]\n",
            "\n"
          ]
        }
      ],
      "source": [
        "#creat training data set \n",
        "#scaled training data set \n",
        "train_data = scaled_data[0:training_data_len, :]\n",
        "#split the data into x_train and y-train data set\n",
        "x_train = []\n",
        "y_train = []\n",
        "\n",
        "for i in range(60, len(train_data)):\n",
        "    x_train.append(train_data[i-60:i, 0])\n",
        "    y_train.append(train_data[i, 0])\n",
        "    if i<= 61 :\n",
        "        print (x_train)\n",
        "        print (y_train)\n",
        "        print()\n",
        "        \n",
        "    "
      ]
    },
    {
      "cell_type": "code",
      "execution_count": null,
      "metadata": {
        "id": "UK7MSIfvszyf"
      },
      "outputs": [],
      "source": [
        "#convert x)train and y_train to numpy array\n",
        "x_train, y_train = np.array(x_train) , np.array(y_train) \n",
        "# Reserve 1000 samples for validation\n",
        "x_val = x_train[-1000:]\n",
        "y_val = y_train[-1000:]\n"
      ]
    },
    {
      "cell_type": "code",
      "execution_count": null,
      "metadata": {
        "colab": {
          "base_uri": "https://localhost:8080/"
        },
        "id": "XpRSRTdAszyf",
        "outputId": "0a3b3d92-b19c-4810-df2d-49d8e5661da4"
      },
      "outputs": [
        {
          "output_type": "execute_result",
          "data": {
            "text/plain": [
              "(9047, 60, 1)"
            ]
          },
          "metadata": {},
          "execution_count": 39
        }
      ],
      "source": [
        "#reshape th data \n",
        "x_train = np.reshape ( x_train, (x_train.shape [0],x_train.shape [1],1))\n",
        "x_train.shape \n",
        "\n"
      ]
    },
    {
      "cell_type": "code",
      "execution_count": null,
      "metadata": {
        "colab": {
          "base_uri": "https://localhost:8080/"
        },
        "id": "juAsE1joszyf",
        "outputId": "71546bae-eb4c-46e1-8406-6daee5a71722"
      },
      "outputs": [
        {
          "output_type": "execute_result",
          "data": {
            "text/plain": [
              "(1000, 60, 1)"
            ]
          },
          "metadata": {},
          "execution_count": 40
        }
      ],
      "source": [
        "x_val = np.reshape ( x_val, (x_val.shape [0],x_val.shape [1],1))\n",
        "x_val.shape "
      ]
    },
    {
      "cell_type": "code",
      "execution_count": null,
      "metadata": {
        "id": "1XIyp27Iszyf"
      },
      "outputs": [],
      "source": [
        "from tensorflow.keras.layers import Dropout\n",
        "#build the lstm model\n",
        "model = Sequential()\n",
        "model.add(LSTM(50, return_sequences = True , input_shape = (x_train.shape[1],1)))\n",
        "model.add(LSTM(50,return_sequences = False ))\n",
        "model.add(Dense(25))\n",
        "model.add(Dense(1))\n",
        "model.add(Dropout(0.02))"
      ]
    },
    {
      "cell_type": "code",
      "execution_count": null,
      "metadata": {
        "id": "xGslkXyFszyg"
      },
      "outputs": [],
      "source": [
        "#compile the model\n",
        "model.compile(optimizer = 'adam' , loss='mean_squared_error',metrics=['accuracy','mse','mape','mae'])"
      ]
    },
    {
      "cell_type": "code",
      "execution_count": null,
      "metadata": {
        "colab": {
          "base_uri": "https://localhost:8080/"
        },
        "id": "CGMX9QV4szyg",
        "outputId": "7620bd5d-3b02-41cd-e317-4ac36c46c4af"
      },
      "outputs": [
        {
          "output_type": "stream",
          "name": "stdout",
          "text": [
            "Epoch 1/15\n",
            "61/61 [==============================] - 12s 119ms/step - loss: 0.0216 - accuracy: 3.2998e-04 - mse: 0.0216 - mape: 40781.6172 - mae: 0.0982 - val_loss: 0.0050 - val_accuracy: 0.0000e+00 - val_mse: 0.0050 - val_mape: 15.3813 - val_mae: 0.0560\n",
            "Epoch 2/15\n",
            "61/61 [==============================] - 6s 102ms/step - loss: 0.0102 - accuracy: 3.2998e-04 - mse: 0.0102 - mape: 41797.0820 - mae: 0.0618 - val_loss: 0.0047 - val_accuracy: 0.0000e+00 - val_mse: 0.0047 - val_mape: 14.4588 - val_mae: 0.0536\n",
            "Epoch 3/15\n",
            "61/61 [==============================] - 6s 102ms/step - loss: 0.0104 - accuracy: 1.6499e-04 - mse: 0.0104 - mape: 37989.3281 - mae: 0.0604 - val_loss: 0.0045 - val_accuracy: 0.0000e+00 - val_mse: 0.0045 - val_mape: 13.8793 - val_mae: 0.0524\n",
            "Epoch 4/15\n",
            "61/61 [==============================] - 6s 103ms/step - loss: 0.0095 - accuracy: 3.2998e-04 - mse: 0.0095 - mape: 38940.5742 - mae: 0.0580 - val_loss: 0.0043 - val_accuracy: 0.0000e+00 - val_mse: 0.0043 - val_mape: 13.6403 - val_mae: 0.0513\n",
            "Epoch 5/15\n",
            "61/61 [==============================] - 6s 104ms/step - loss: 0.0083 - accuracy: 3.2998e-04 - mse: 0.0083 - mape: 37653.7383 - mae: 0.0551 - val_loss: 0.0038 - val_accuracy: 0.0000e+00 - val_mse: 0.0038 - val_mape: 13.3204 - val_mae: 0.0488\n",
            "Epoch 6/15\n",
            "61/61 [==============================] - 6s 105ms/step - loss: 0.0086 - accuracy: 3.2998e-04 - mse: 0.0086 - mape: 37438.7812 - mae: 0.0549 - val_loss: 0.0036 - val_accuracy: 0.0000e+00 - val_mse: 0.0036 - val_mape: 12.9767 - val_mae: 0.0472\n",
            "Epoch 7/15\n",
            "61/61 [==============================] - 6s 104ms/step - loss: 0.0083 - accuracy: 3.2998e-04 - mse: 0.0083 - mape: 37633.7344 - mae: 0.0531 - val_loss: 0.0034 - val_accuracy: 0.0000e+00 - val_mse: 0.0034 - val_mape: 12.5272 - val_mae: 0.0455\n",
            "Epoch 8/15\n",
            "61/61 [==============================] - 6s 104ms/step - loss: 0.0090 - accuracy: 1.6499e-04 - mse: 0.0090 - mape: 37176.3164 - mae: 0.0532 - val_loss: 0.0032 - val_accuracy: 0.0000e+00 - val_mse: 0.0032 - val_mape: 12.1605 - val_mae: 0.0443\n",
            "Epoch 9/15\n",
            "61/61 [==============================] - 6s 103ms/step - loss: 0.0082 - accuracy: 3.2998e-04 - mse: 0.0082 - mape: 39143.5508 - mae: 0.0511 - val_loss: 0.0030 - val_accuracy: 0.0000e+00 - val_mse: 0.0030 - val_mape: 11.6433 - val_mae: 0.0427\n",
            "Epoch 10/15\n",
            "61/61 [==============================] - 6s 104ms/step - loss: 0.0076 - accuracy: 3.2998e-04 - mse: 0.0076 - mape: 37760.5820 - mae: 0.0481 - val_loss: 0.0027 - val_accuracy: 0.0000e+00 - val_mse: 0.0027 - val_mape: 11.1408 - val_mae: 0.0403\n",
            "Epoch 11/15\n",
            "61/61 [==============================] - 6s 103ms/step - loss: 0.0096 - accuracy: 3.2998e-04 - mse: 0.0096 - mape: 35260.3125 - mae: 0.0489 - val_loss: 0.0027 - val_accuracy: 0.0000e+00 - val_mse: 0.0027 - val_mape: 11.2763 - val_mae: 0.0402\n",
            "Epoch 12/15\n",
            "61/61 [==============================] - 6s 103ms/step - loss: 0.0072 - accuracy: 3.2998e-04 - mse: 0.0072 - mape: 35604.8320 - mae: 0.0445 - val_loss: 0.0028 - val_accuracy: 0.0000e+00 - val_mse: 0.0028 - val_mape: 10.5484 - val_mae: 0.0419\n",
            "Epoch 13/15\n",
            "61/61 [==============================] - 6s 104ms/step - loss: 0.0074 - accuracy: 3.2998e-04 - mse: 0.0074 - mape: 34356.5898 - mae: 0.0445 - val_loss: 0.0023 - val_accuracy: 0.0000e+00 - val_mse: 0.0023 - val_mape: 9.7999 - val_mae: 0.0376\n",
            "Epoch 14/15\n",
            "61/61 [==============================] - 6s 103ms/step - loss: 0.0067 - accuracy: 3.2998e-04 - mse: 0.0067 - mape: 34010.7109 - mae: 0.0422 - val_loss: 0.0023 - val_accuracy: 0.0000e+00 - val_mse: 0.0023 - val_mape: 9.6602 - val_mae: 0.0377\n",
            "Epoch 15/15\n",
            "61/61 [==============================] - 6s 105ms/step - loss: 0.0071 - accuracy: 3.2998e-04 - mse: 0.0071 - mape: 32605.7246 - mae: 0.0427 - val_loss: 0.0019 - val_accuracy: 0.0000e+00 - val_mse: 0.0019 - val_mape: 9.1483 - val_mae: 0.0337\n"
          ]
        }
      ],
      "source": [
        "#train the model\n",
        "\n",
        "history=model.fit(x_train, y_train , batch_size=100 , epochs =15 ,validation_split=0.33)"
      ]
    },
    {
      "cell_type": "code",
      "execution_count": null,
      "metadata": {
        "id": "eqwPcxL4szyg"
      },
      "outputs": [],
      "source": [
        "#create the testing data set\n",
        "#  create a new array containing scaled values from index 1543 to 2003\n",
        "test_data = scaled_data[training_data_len - 60: , :]\n",
        "\n",
        "#create the data sets x_test and y_test \n",
        "x_test = []\n",
        "y_test = dataset[training_data_len: , :]\n",
        "for i in range(60, len(test_data)):\n",
        "    x_test.append(test_data[i-60:i,0])"
      ]
    },
    {
      "cell_type": "code",
      "execution_count": null,
      "metadata": {
        "colab": {
          "base_uri": "https://localhost:8080/"
        },
        "id": "E6ncz7njszyh",
        "outputId": "7e91f316-518b-4397-ec64-f64ff9e361b4"
      },
      "outputs": [
        {
          "output_type": "execute_result",
          "data": {
            "text/plain": [
              "array([[0.59039735, 0.60860927, 0.62682119, ..., 0.28245033, 0.30364238,\n",
              "        0.30960265],\n",
              "       [0.60860927, 0.62682119, 0.67483444, ..., 0.30364238, 0.30960265,\n",
              "        0.28543046],\n",
              "       [0.62682119, 0.67483444, 0.63245033, ..., 0.30960265, 0.28543046,\n",
              "        0.28410596],\n",
              "       ...,\n",
              "       [0.20794702, 0.17582781, 0.18178808, ..., 0.32317881, 0.31556291,\n",
              "        0.2807947 ],\n",
              "       [0.17582781, 0.18178808, 0.21291391, ..., 0.31556291, 0.2807947 ,\n",
              "        0.30562914],\n",
              "       [0.18178808, 0.21291391, 0.18543046, ..., 0.2807947 , 0.30562914,\n",
              "        0.35993377]])"
            ]
          },
          "metadata": {},
          "execution_count": 45
        }
      ],
      "source": [
        "#convert the data to a numpy array\n",
        "x_test = np.array(x_test)\n",
        "x_test"
      ]
    },
    {
      "cell_type": "code",
      "execution_count": null,
      "metadata": {
        "id": "iNHyDVnzszyh"
      },
      "outputs": [],
      "source": [
        "#reshape the data\n",
        "x_test = np.reshape(x_test, (x_test.shape[0],x_test.shape[1],1))\n"
      ]
    },
    {
      "cell_type": "code",
      "execution_count": null,
      "metadata": {
        "id": "8b0dAKyaszyi"
      },
      "outputs": [],
      "source": [
        "# get the models predicted price values \n",
        "predictions = model.predict(x_test)\n",
        "predictions = scaler.inverse_transform(predictions)"
      ]
    },
    {
      "cell_type": "code",
      "execution_count": null,
      "metadata": {
        "colab": {
          "base_uri": "https://localhost:8080/"
        },
        "id": "Og6juw7Fszyi",
        "outputId": "6b17a40b-1725-4c4e-e344-56192ff4caae"
      },
      "outputs": [
        {
          "output_type": "execute_result",
          "data": {
            "text/plain": [
              "0.2424447478225654"
            ]
          },
          "metadata": {},
          "execution_count": 48
        }
      ],
      "source": [
        "#get the root mean squared error RMSE\n",
        "rmse = np.sqrt (np.mean( predictions - y_test)**2 )\n",
        "rmse"
      ]
    },
    {
      "cell_type": "code",
      "execution_count": null,
      "metadata": {
        "colab": {
          "base_uri": "https://localhost:8080/",
          "height": 662
        },
        "id": "mI94LO8fszyi",
        "outputId": "2aedb07e-3915-4a47-8bbb-197e566102b8"
      },
      "outputs": [
        {
          "output_type": "stream",
          "name": "stderr",
          "text": [
            "/usr/local/lib/python3.7/dist-packages/ipykernel_launcher.py:4: SettingWithCopyWarning: \n",
            "A value is trying to be set on a copy of a slice from a DataFrame.\n",
            "Try using .loc[row_indexer,col_indexer] = value instead\n",
            "\n",
            "See the caveats in the documentation: https://pandas.pydata.org/pandas-docs/stable/user_guide/indexing.html#returning-a-view-versus-a-copy\n",
            "  after removing the cwd from sys.path.\n"
          ]
        },
        {
          "output_type": "display_data",
          "data": {
            "text/plain": [
              "<Figure size 1152x576 with 1 Axes>"
            ],
            "image/png": "[encoded data removed]"
          },
          "metadata": {}
        }
      ],
      "source": [
        "#plot the data\n",
        "train = data[:training_data_len]\n",
        "valid = data[training_data_len:]\n",
        "valid['Predictions'] = predictions\n",
        "\n",
        "#visualisation \n",
        "plt.figure(figsize=(16,8))\n",
        "plt.title('model')\n",
        "plt.xlabel('Date', fontsize=18)\n",
        "plt.ylabel('T2M', fontsize=18)\n",
        "plt.plot(train['T2M'])\n",
        "plt.plot(valid[['T2M','Predictions']])\n",
        "plt.legend(['Train','Val','Predictions'], loc='lower right')\n",
        "plt.show()\n",
        "\n",
        "\n"
      ]
    },
    {
      "cell_type": "code",
      "execution_count": null,
      "metadata": {
        "colab": {
          "base_uri": "https://localhost:8080/",
          "height": 424
        },
        "id": "hsVEk8oiszyj",
        "outputId": "734bd230-340c-4799-c72c-87a4c8fc305f"
      },
      "outputs": [
        {
          "output_type": "execute_result",
          "data": {
            "text/plain": [
              "         T2M  Predictions\n",
              "9107   12.92    12.825437\n",
              "9108   12.88    12.442525\n",
              "9109   12.23    12.329662\n",
              "9110   12.85    11.958708\n",
              "9111   12.27    12.281183\n",
              "...      ...          ...\n",
              "11378  13.83    13.514588\n",
              "11379  12.78    13.595329\n",
              "11380  13.53    12.934195\n",
              "11381  15.17    13.190044\n",
              "11382  15.67    14.319916\n",
              "\n",
              "[2276 rows x 2 columns]"
            ],
            "text/html": [
              "\n",
              "  <div id=\"df-0390ef42-ed85-4ee6-b714-7197f8ea68a6\">\n",
              "    <div class=\"colab-df-container\">\n",
              "      <div>\n",
              "<style scoped>\n",
              "    .dataframe tbody tr th:only-of-type {\n",
              "        vertical-align: middle;\n",
              "    }\n",
              "\n",
              "    .dataframe tbody tr th {\n",
              "        vertical-align: top;\n",
              "    }\n",
              "\n",
              "    .dataframe thead th {\n",
              "        text-align: right;\n",
              "    }\n",
              "</style>\n",
              "<table border=\"1\" class=\"dataframe\">\n",
              "  <thead>\n",
              "    <tr style=\"text-align: right;\">\n",
              "      <th></th>\n",
              "      <th>T2M</th>\n",
              "      <th>Predictions</th>\n",
              "    </tr>\n",
              "  </thead>\n",
              "  <tbody>\n",
              "    <tr>\n",
              "      <th>9107</th>\n",
              "      <td>12.92</td>\n",
              "      <td>12.825437</td>\n",
              "    </tr>\n",
              "    <tr>\n",
              "      <th>9108</th>\n",
              "      <td>12.88</td>\n",
              "      <td>12.442525</td>\n",
              "    </tr>\n",
              "    <tr>\n",
              "      <th>9109</th>\n",
              "      <td>12.23</td>\n",
              "      <td>12.329662</td>\n",
              "    </tr>\n",
              "    <tr>\n",
              "      <th>9110</th>\n",
              "      <td>12.85</td>\n",
              "      <td>11.958708</td>\n",
              "    </tr>\n",
              "    <tr>\n",
              "      <th>9111</th>\n",
              "      <td>12.27</td>\n",
              "      <td>12.281183</td>\n",
              "    </tr>\n",
              "    <tr>\n",
              "      <th>...</th>\n",
              "      <td>...</td>\n",
              "      <td>...</td>\n",
              "    </tr>\n",
              "    <tr>\n",
              "      <th>11378</th>\n",
              "      <td>13.83</td>\n",
              "      <td>13.514588</td>\n",
              "    </tr>\n",
              "    <tr>\n",
              "      <th>11379</th>\n",
              "      <td>12.78</td>\n",
              "      <td>13.595329</td>\n",
              "    </tr>\n",
              "    <tr>\n",
              "      <th>11380</th>\n",
              "      <td>13.53</td>\n",
              "      <td>12.934195</td>\n",
              "    </tr>\n",
              "    <tr>\n",
              "      <th>11381</th>\n",
              "      <td>15.17</td>\n",
              "      <td>13.190044</td>\n",
              "    </tr>\n",
              "    <tr>\n",
              "      <th>11382</th>\n",
              "      <td>15.67</td>\n",
              "      <td>14.319916</td>\n",
              "    </tr>\n",
              "  </tbody>\n",
              "</table>\n",
              "<p>2276 rows × 2 columns</p>\n",
              "</div>\n",
              "      <button class=\"colab-df-convert\" onclick=\"convertToInteractive('df-0390ef42-ed85-4ee6-b714-7197f8ea68a6')\"\n",
              "              title=\"Convert this dataframe to an interactive table.\"\n",
              "              style=\"display:none;\">\n",
              "        \n",
              "  <svg xmlns=\"http://www.w3.org/2000/svg\" height=\"24px\"viewBox=\"0 0 24 24\"\n",
              "       width=\"24px\">\n",
              "    <path d=\"M0 0h24v24H0V0z\" fill=\"none\"/>\n",
              "    <path d=\"M18.56 5.44l.94 2.06.94-2.06 2.06-.94-2.06-.94-.94-2.06-.94 2.06-2.06.94zm-11 1L8.5 8.5l.94-2.06 2.06-.94-2.06-.94L8.5 2.5l-.94 2.06-2.06.94zm10 10l.94 2.06.94-2.06 2.06-.94-2.06-.94-.94-2.06-.94 2.06-2.06.94z\"/><path d=\"M17.41 7.96l-1.37-1.37c-.4-.4-.92-.59-1.43-.59-.52 0-1.04.2-1.43.59L10.3 9.45l-7.72 7.72c-.78.78-.78 2.05 0 2.83L4 21.41c.39.39.9.59 1.41.59.51 0 1.02-.2 1.41-.59l7.78-7.78 2.81-2.81c.8-.78.8-2.07 0-2.86zM5.41 20L4 18.59l7.72-7.72 1.47 1.35L5.41 20z\"/>\n",
              "  </svg>\n",
              "      </button>\n",
              "      \n",
              "  <style>\n",
              "    .colab-df-container {\n",
              "      display:flex;\n",
              "      flex-wrap:wrap;\n",
              "      gap: 12px;\n",
              "    }\n",
              "\n",
              "    .colab-df-convert {\n",
              "      background-color: #E8F0FE;\n",
              "      border: none;\n",
              "      border-radius: 50%;\n",
              "      cursor: pointer;\n",
              "      display: none;\n",
              "      fill: #1967D2;\n",
              "      height: 32px;\n",
              "      padding: 0 0 0 0;\n",
              "      width: 32px;\n",
              "    }\n",
              "\n",
              "    .colab-df-convert:hover {\n",
              "      background-color: #E2EBFA;\n",
              "      box-shadow: 0px 1px 2px rgba(60, 64, 67, 0.3), 0px 1px 3px 1px rgba(60, 64, 67, 0.15);\n",
              "      fill: #174EA6;\n",
              "    }\n",
              "\n",
              "    [theme=dark] .colab-df-convert {\n",
              "      background-color: #3B4455;\n",
              "      fill: #D2E3FC;\n",
              "    }\n",
              "\n",
              "    [theme=dark] .colab-df-convert:hover {\n",
              "      background-color: #434B5C;\n",
              "      box-shadow: 0px 1px 3px 1px rgba(0, 0, 0, 0.15);\n",
              "      filter: drop-shadow(0px 1px 2px rgba(0, 0, 0, 0.3));\n",
              "      fill: #FFFFFF;\n",
              "    }\n",
              "  </style>\n",
              "\n",
              "      <script>\n",
              "        const buttonEl =\n",
              "          document.querySelector('#df-0390ef42-ed85-4ee6-b714-7197f8ea68a6 button.colab-df-convert');\n",
              "        buttonEl.style.display =\n",
              "          google.colab.kernel.accessAllowed ? 'block' : 'none';\n",
              "\n",
              "        async function convertToInteractive(key) {\n",
              "          const element = document.querySelector('#df-0390ef42-ed85-4ee6-b714-7197f8ea68a6');\n",
              "          const dataTable =\n",
              "            await google.colab.kernel.invokeFunction('convertToInteractive',\n",
              "                                                     [key], {});\n",
              "          if (!dataTable) return;\n",
              "\n",
              "          const docLinkHtml = 'Like what you see? Visit the ' +\n",
              "            '<a target=\"_blank\" href=https://colab.research.google.com/notebooks/data_table.ipynb>data table notebook</a>'\n",
              "            + ' to learn more about interactive tables.';\n",
              "          element.innerHTML = '';\n",
              "          dataTable['output_type'] = 'display_data';\n",
              "          await google.colab.output.renderOutput(dataTable, element);\n",
              "          const docLink = document.createElement('div');\n",
              "          docLink.innerHTML = docLinkHtml;\n",
              "          element.appendChild(docLink);\n",
              "        }\n",
              "      </script>\n",
              "    </div>\n",
              "  </div>\n",
              "  "
            ]
          },
          "metadata": {},
          "execution_count": 50
        }
      ],
      "source": [
        "#sHOW THE VALID AND PREDICTED PRiCES\n",
        "valid"
      ]
    },
    {
      "cell_type": "code",
      "execution_count": null,
      "metadata": {
        "colab": {
          "base_uri": "https://localhost:8080/"
        },
        "id": "g6MmsjeQszyj",
        "outputId": "6b60c758-f233-4242-f37c-7486c5058299"
      },
      "outputs": [
        {
          "output_type": "execute_result",
          "data": {
            "text/plain": [
              "{'accuracy': [0.0003299785603303462,\n",
              "  0.0003299785603303462,\n",
              "  0.0001649892801651731,\n",
              "  0.0003299785603303462,\n",
              "  0.0003299785603303462,\n",
              "  0.0003299785603303462,\n",
              "  0.0003299785603303462,\n",
              "  0.0001649892801651731,\n",
              "  0.0003299785603303462,\n",
              "  0.0003299785603303462,\n",
              "  0.0003299785603303462,\n",
              "  0.0003299785603303462,\n",
              "  0.0003299785603303462,\n",
              "  0.0003299785603303462,\n",
              "  0.0003299785603303462],\n",
              " 'loss': [0.02155923657119274,\n",
              "  0.010200463235378265,\n",
              "  0.01041240431368351,\n",
              "  0.009467458352446556,\n",
              "  0.008261618204414845,\n",
              "  0.008623992092907429,\n",
              "  0.008346198126673698,\n",
              "  0.009046556428074837,\n",
              "  0.008157802745699883,\n",
              "  0.007582315243780613,\n",
              "  0.009636027738451958,\n",
              "  0.007231646217405796,\n",
              "  0.007428532466292381,\n",
              "  0.006733654998242855,\n",
              "  0.007051621098071337],\n",
              " 'mae': [0.09818144142627716,\n",
              "  0.06179719418287277,\n",
              "  0.06035689637064934,\n",
              "  0.05796893313527107,\n",
              "  0.055113498121500015,\n",
              "  0.05486404523253441,\n",
              "  0.05306106060743332,\n",
              "  0.053204722702503204,\n",
              "  0.05107575282454491,\n",
              "  0.048088498413562775,\n",
              "  0.048894401639699936,\n",
              "  0.04454388841986656,\n",
              "  0.04449279233813286,\n",
              "  0.042170703411102295,\n",
              "  0.042704060673713684],\n",
              " 'mape': [40781.6171875,\n",
              "  41797.08203125,\n",
              "  37989.328125,\n",
              "  38940.57421875,\n",
              "  37653.73828125,\n",
              "  37438.78125,\n",
              "  37633.734375,\n",
              "  37176.31640625,\n",
              "  39143.55078125,\n",
              "  37760.58203125,\n",
              "  35260.3125,\n",
              "  35604.83203125,\n",
              "  34356.58984375,\n",
              "  34010.7109375,\n",
              "  32605.724609375],\n",
              " 'mse': [0.02155923657119274,\n",
              "  0.010200463235378265,\n",
              "  0.01041240431368351,\n",
              "  0.009467458352446556,\n",
              "  0.008261618204414845,\n",
              "  0.008623993024230003,\n",
              "  0.008346198126673698,\n",
              "  0.009046556428074837,\n",
              "  0.008157802745699883,\n",
              "  0.007582315243780613,\n",
              "  0.009636027738451958,\n",
              "  0.007231646217405796,\n",
              "  0.007428532466292381,\n",
              "  0.006733654998242855,\n",
              "  0.0070516206324100494],\n",
              " 'val_accuracy': [0.0,\n",
              "  0.0,\n",
              "  0.0,\n",
              "  0.0,\n",
              "  0.0,\n",
              "  0.0,\n",
              "  0.0,\n",
              "  0.0,\n",
              "  0.0,\n",
              "  0.0,\n",
              "  0.0,\n",
              "  0.0,\n",
              "  0.0,\n",
              "  0.0,\n",
              "  0.0],\n",
              " 'val_loss': [0.005046892911195755,\n",
              "  0.004652623552829027,\n",
              "  0.004457855597138405,\n",
              "  0.00427847309038043,\n",
              "  0.0038492088206112385,\n",
              "  0.0036063778679817915,\n",
              "  0.0033671266864985228,\n",
              "  0.0031935200095176697,\n",
              "  0.0029923496767878532,\n",
              "  0.0026916314382106066,\n",
              "  0.0027079058345407248,\n",
              "  0.0028386199846863747,\n",
              "  0.0023372897412627935,\n",
              "  0.0023286957293748856,\n",
              "  0.001915737404488027],\n",
              " 'val_mae': [0.05595250800251961,\n",
              "  0.05364843085408211,\n",
              "  0.05239659547805786,\n",
              "  0.05126119777560234,\n",
              "  0.04877496883273125,\n",
              "  0.04721037670969963,\n",
              "  0.04552539810538292,\n",
              "  0.04425952956080437,\n",
              "  0.04273628443479538,\n",
              "  0.04031229019165039,\n",
              "  0.04016883298754692,\n",
              "  0.04191753268241882,\n",
              "  0.03756897896528244,\n",
              "  0.037702277302742004,\n",
              "  0.03372680023312569],\n",
              " 'val_mape': [15.381254196166992,\n",
              "  14.45881462097168,\n",
              "  13.879322052001953,\n",
              "  13.640339851379395,\n",
              "  13.320405006408691,\n",
              "  12.976749420166016,\n",
              "  12.527180671691895,\n",
              "  12.160484313964844,\n",
              "  11.643312454223633,\n",
              "  11.140766143798828,\n",
              "  11.276283264160156,\n",
              "  10.548436164855957,\n",
              "  9.799891471862793,\n",
              "  9.66022777557373,\n",
              "  9.148292541503906],\n",
              " 'val_mse': [0.005046892911195755,\n",
              "  0.004652623552829027,\n",
              "  0.004457855597138405,\n",
              "  0.00427847309038043,\n",
              "  0.0038492088206112385,\n",
              "  0.0036063778679817915,\n",
              "  0.0033671266864985228,\n",
              "  0.0031935202423483133,\n",
              "  0.0029923496767878532,\n",
              "  0.0026916314382106066,\n",
              "  0.0027079058345407248,\n",
              "  0.0028386199846863747,\n",
              "  0.0023372897412627935,\n",
              "  0.0023286957293748856,\n",
              "  0.001915737404488027]}"
            ]
          },
          "metadata": {},
          "execution_count": 51
        }
      ],
      "source": [
        "history.history"
      ]
    },
    {
      "cell_type": "code",
      "execution_count": null,
      "metadata": {
        "colab": {
          "base_uri": "https://localhost:8080/",
          "height": 304
        },
        "id": "sf3lPv4Sszyj",
        "outputId": "a53e1667-d819-4ce2-f0b1-0f901a252d7d"
      },
      "outputs": [
        {
          "output_type": "display_data",
          "data": {
            "text/plain": [
              "<Figure size 432x288 with 1 Axes>"
            ],
            "image/png": "[encoded data removed]"
          },
          "metadata": {}
        }
      ],
      "source": [
        "# summarize history for loss\n",
        "plt.subplot(1,1,1)\n",
        "plt.plot(history.history['loss'], '.-')\n",
        "plt.plot(history.history['val_loss'], '.-')\n",
        "\n",
        "\n",
        "plt.ylabel('loss')\n",
        "plt.xlabel('epoch')\n",
        "plt.legend([ 'validation','train'], loc='upper right')\n",
        "plt.show()"
      ]
    },
    {
      "cell_type": "code",
      "execution_count": null,
      "metadata": {
        "colab": {
          "base_uri": "https://localhost:8080/",
          "height": 356
        },
        "id": "S5v23poSszyj",
        "outputId": "e2457d42-bdc1-4f48-8230-f28af60ce4cd"
      },
      "outputs": [
        {
          "output_type": "error",
          "ename": "AttributeError",
          "evalue": "ignored",
          "traceback": [
            "\u001b[0;31m---------------------------------------------------------------------------\u001b[0m",
            "\u001b[0;31mAttributeError\u001b[0m                            Traceback (most recent call last)",
            "\u001b[0;32m<ipython-input-57-49ad09759da6>\u001b[0m in \u001b[0;36m<module>\u001b[0;34m()\u001b[0m\n\u001b[1;32m      3\u001b[0m \u001b[0;34m\u001b[0m\u001b[0m\n\u001b[1;32m      4\u001b[0m \u001b[0;31m# Build the default map for a specific location (Tunisie)\u001b[0m\u001b[0;34m\u001b[0m\u001b[0;34m\u001b[0m\u001b[0;34m\u001b[0m\u001b[0m\n\u001b[0;32m----> 5\u001b[0;31m \u001b[0mmap\u001b[0m \u001b[0;34m=\u001b[0m \u001b[0mfolium\u001b[0m\u001b[0;34m.\u001b[0m\u001b[0mMap\u001b[0m\u001b[0;34m(\u001b[0m\u001b[0mlocation\u001b[0m\u001b[0;34m=\u001b[0m\u001b[0;34m[\u001b[0m\u001b[0mfloat\u001b[0m\u001b[0;34m(\u001b[0m\u001b[0mf\u001b[0m\u001b[0;34m.\u001b[0m\u001b[0mLAT_x\u001b[0m\u001b[0;34m[\u001b[0m\u001b[0;36m0\u001b[0m\u001b[0;34m]\u001b[0m\u001b[0;34m)\u001b[0m\u001b[0;34m,\u001b[0m\u001b[0mf\u001b[0m\u001b[0;34m.\u001b[0m\u001b[0mLON_x\u001b[0m\u001b[0;34m[\u001b[0m\u001b[0;36m0\u001b[0m\u001b[0;34m]\u001b[0m\u001b[0;34m]\u001b[0m\u001b[0;34m,\u001b[0m\u001b[0mzoom_start\u001b[0m\u001b[0;34m=\u001b[0m\u001b[0;36m7\u001b[0m\u001b[0;34m)\u001b[0m\u001b[0;34m\u001b[0m\u001b[0;34m\u001b[0m\u001b[0m\n\u001b[0m\u001b[1;32m      6\u001b[0m \u001b[0;34m\u001b[0m\u001b[0m\n\u001b[1;32m      7\u001b[0m \u001b[0;31m#save in a file\u001b[0m\u001b[0;34m\u001b[0m\u001b[0;34m\u001b[0m\u001b[0;34m\u001b[0m\u001b[0m\n",
            "\u001b[0;32m/usr/local/lib/python3.7/dist-packages/pandas/core/generic.py\u001b[0m in \u001b[0;36m__getattr__\u001b[0;34m(self, name)\u001b[0m\n\u001b[1;32m   5485\u001b[0m         ):\n\u001b[1;32m   5486\u001b[0m             \u001b[0;32mreturn\u001b[0m \u001b[0mself\u001b[0m\u001b[0;34m[\u001b[0m\u001b[0mname\u001b[0m\u001b[0;34m]\u001b[0m\u001b[0;34m\u001b[0m\u001b[0;34m\u001b[0m\u001b[0m\n\u001b[0;32m-> 5487\u001b[0;31m         \u001b[0;32mreturn\u001b[0m \u001b[0mobject\u001b[0m\u001b[0;34m.\u001b[0m\u001b[0m__getattribute__\u001b[0m\u001b[0;34m(\u001b[0m\u001b[0mself\u001b[0m\u001b[0;34m,\u001b[0m \u001b[0mname\u001b[0m\u001b[0;34m)\u001b[0m\u001b[0;34m\u001b[0m\u001b[0;34m\u001b[0m\u001b[0m\n\u001b[0m\u001b[1;32m   5488\u001b[0m \u001b[0;34m\u001b[0m\u001b[0m\n\u001b[1;32m   5489\u001b[0m     \u001b[0;32mdef\u001b[0m \u001b[0m__setattr__\u001b[0m\u001b[0;34m(\u001b[0m\u001b[0mself\u001b[0m\u001b[0;34m,\u001b[0m \u001b[0mname\u001b[0m\u001b[0;34m:\u001b[0m \u001b[0mstr\u001b[0m\u001b[0;34m,\u001b[0m \u001b[0mvalue\u001b[0m\u001b[0;34m)\u001b[0m \u001b[0;34m->\u001b[0m \u001b[0;32mNone\u001b[0m\u001b[0;34m:\u001b[0m\u001b[0;34m\u001b[0m\u001b[0;34m\u001b[0m\u001b[0m\n",
            "\u001b[0;31mAttributeError\u001b[0m: 'DataFrame' object has no attribute 'LAT_x'"
          ]
        }
      ],
      "source": [
        "# Import the folium library\n",
        "import folium\n",
        "\n",
        "# Build the default map for a specific location (Tunisie)\n",
        "map = folium.Map(location=[float(f.LAT_x[0]),f.LON_x[0]],zoom_start=7)\n",
        "\n",
        "#save in a file\n",
        "map.save(\"index.html\")\n",
        "\n",
        "tooltip = \"Click Here For More Info\"\n",
        "\n",
        "marker = folium.Marker(location=[float(f.LAT_x[0]),f.LON_x[0]],popup=predictions[len(predictions)-1],tooltip=tooltip)\n",
        "marker.add_to(map)\n",
        "map"
      ]
    },
    {
      "cell_type": "code",
      "execution_count": null,
      "metadata": {
        "colab": {
          "base_uri": "https://localhost:8080/"
        },
        "id": "OALM7x3qszyj",
        "outputId": "92033ed1-3b36-4ab3-baaf-e0e2382f1740"
      },
      "outputs": [
        {
          "output_type": "execute_result",
          "data": {
            "text/plain": [
              "11382"
            ]
          },
          "metadata": {},
          "execution_count": 58
        }
      ],
      "source": [
        "f.index[f.shape[0]-1]"
      ]
    },
    {
      "cell_type": "code",
      "execution_count": null,
      "metadata": {
        "colab": {
          "base_uri": "https://localhost:8080/"
        },
        "id": "gOu4Awj6szyk",
        "outputId": "1142df15-93fd-4b78-ba64-63c2fde523a8"
      },
      "outputs": [
        {
          "output_type": "stream",
          "name": "stdout",
          "text": [
            "Model: \"sequential\"\n",
            "_________________________________________________________________\n",
            " Layer (type)                Output Shape              Param #   \n",
            "=================================================================\n",
            " lstm (LSTM)                 (None, 60, 50)            10400     \n",
            "                                                                 \n",
            " lstm_1 (LSTM)               (None, 50)                20200     \n",
            "                                                                 \n",
            " dense (Dense)               (None, 25)                1275      \n",
            "                                                                 \n",
            " dense_1 (Dense)             (None, 1)                 26        \n",
            "                                                                 \n",
            " dropout (Dropout)           (None, 1)                 0         \n",
            "                                                                 \n",
            "=================================================================\n",
            "Total params: 31,901\n",
            "Trainable params: 31,901\n",
            "Non-trainable params: 0\n",
            "_________________________________________________________________\n"
          ]
        }
      ],
      "source": [
        " model.summary()"
      ]
    },
    {
      "cell_type": "code",
      "execution_count": null,
      "metadata": {
        "colab": {
          "base_uri": "https://localhost:8080/"
        },
        "id": "pQbSspuoszyk",
        "outputId": "d6cca3f5-3bb2-44bb-bdf9-efef76cb3ebc"
      },
      "outputs": [
        {
          "output_type": "execute_result",
          "data": {
            "text/plain": [
              "[0.02155923657119274,\n",
              " 0.010200463235378265,\n",
              " 0.01041240431368351,\n",
              " 0.009467458352446556,\n",
              " 0.008261618204414845,\n",
              " 0.008623992092907429,\n",
              " 0.008346198126673698,\n",
              " 0.009046556428074837,\n",
              " 0.008157802745699883,\n",
              " 0.007582315243780613,\n",
              " 0.009636027738451958,\n",
              " 0.007231646217405796,\n",
              " 0.007428532466292381,\n",
              " 0.006733654998242855,\n",
              " 0.007051621098071337]"
            ]
          },
          "metadata": {},
          "execution_count": 60
        }
      ],
      "source": [
        "history.history['loss']"
      ]
    },
    {
      "cell_type": "code",
      "execution_count": null,
      "metadata": {
        "colab": {
          "base_uri": "https://localhost:8080/"
        },
        "id": "qAJW1Zu_szyk",
        "outputId": "90f7931c-360f-4d66-f8a4-c96831497aa9"
      },
      "outputs": [
        {
          "output_type": "execute_result",
          "data": {
            "text/plain": [
              "{'accuracy': [0.0003299785603303462,\n",
              "  0.0003299785603303462,\n",
              "  0.0001649892801651731,\n",
              "  0.0003299785603303462,\n",
              "  0.0003299785603303462,\n",
              "  0.0003299785603303462,\n",
              "  0.0003299785603303462,\n",
              "  0.0001649892801651731,\n",
              "  0.0003299785603303462,\n",
              "  0.0003299785603303462,\n",
              "  0.0003299785603303462,\n",
              "  0.0003299785603303462,\n",
              "  0.0003299785603303462,\n",
              "  0.0003299785603303462,\n",
              "  0.0003299785603303462],\n",
              " 'loss': [0.02155923657119274,\n",
              "  0.010200463235378265,\n",
              "  0.01041240431368351,\n",
              "  0.009467458352446556,\n",
              "  0.008261618204414845,\n",
              "  0.008623992092907429,\n",
              "  0.008346198126673698,\n",
              "  0.009046556428074837,\n",
              "  0.008157802745699883,\n",
              "  0.007582315243780613,\n",
              "  0.009636027738451958,\n",
              "  0.007231646217405796,\n",
              "  0.007428532466292381,\n",
              "  0.006733654998242855,\n",
              "  0.007051621098071337],\n",
              " 'mae': [0.09818144142627716,\n",
              "  0.06179719418287277,\n",
              "  0.06035689637064934,\n",
              "  0.05796893313527107,\n",
              "  0.055113498121500015,\n",
              "  0.05486404523253441,\n",
              "  0.05306106060743332,\n",
              "  0.053204722702503204,\n",
              "  0.05107575282454491,\n",
              "  0.048088498413562775,\n",
              "  0.048894401639699936,\n",
              "  0.04454388841986656,\n",
              "  0.04449279233813286,\n",
              "  0.042170703411102295,\n",
              "  0.042704060673713684],\n",
              " 'mape': [40781.6171875,\n",
              "  41797.08203125,\n",
              "  37989.328125,\n",
              "  38940.57421875,\n",
              "  37653.73828125,\n",
              "  37438.78125,\n",
              "  37633.734375,\n",
              "  37176.31640625,\n",
              "  39143.55078125,\n",
              "  37760.58203125,\n",
              "  35260.3125,\n",
              "  35604.83203125,\n",
              "  34356.58984375,\n",
              "  34010.7109375,\n",
              "  32605.724609375],\n",
              " 'mse': [0.02155923657119274,\n",
              "  0.010200463235378265,\n",
              "  0.01041240431368351,\n",
              "  0.009467458352446556,\n",
              "  0.008261618204414845,\n",
              "  0.008623993024230003,\n",
              "  0.008346198126673698,\n",
              "  0.009046556428074837,\n",
              "  0.008157802745699883,\n",
              "  0.007582315243780613,\n",
              "  0.009636027738451958,\n",
              "  0.007231646217405796,\n",
              "  0.007428532466292381,\n",
              "  0.006733654998242855,\n",
              "  0.0070516206324100494],\n",
              " 'val_accuracy': [0.0,\n",
              "  0.0,\n",
              "  0.0,\n",
              "  0.0,\n",
              "  0.0,\n",
              "  0.0,\n",
              "  0.0,\n",
              "  0.0,\n",
              "  0.0,\n",
              "  0.0,\n",
              "  0.0,\n",
              "  0.0,\n",
              "  0.0,\n",
              "  0.0,\n",
              "  0.0],\n",
              " 'val_loss': [0.005046892911195755,\n",
              "  0.004652623552829027,\n",
              "  0.004457855597138405,\n",
              "  0.00427847309038043,\n",
              "  0.0038492088206112385,\n",
              "  0.0036063778679817915,\n",
              "  0.0033671266864985228,\n",
              "  0.0031935200095176697,\n",
              "  0.0029923496767878532,\n",
              "  0.0026916314382106066,\n",
              "  0.0027079058345407248,\n",
              "  0.0028386199846863747,\n",
              "  0.0023372897412627935,\n",
              "  0.0023286957293748856,\n",
              "  0.001915737404488027],\n",
              " 'val_mae': [0.05595250800251961,\n",
              "  0.05364843085408211,\n",
              "  0.05239659547805786,\n",
              "  0.05126119777560234,\n",
              "  0.04877496883273125,\n",
              "  0.04721037670969963,\n",
              "  0.04552539810538292,\n",
              "  0.04425952956080437,\n",
              "  0.04273628443479538,\n",
              "  0.04031229019165039,\n",
              "  0.04016883298754692,\n",
              "  0.04191753268241882,\n",
              "  0.03756897896528244,\n",
              "  0.037702277302742004,\n",
              "  0.03372680023312569],\n",
              " 'val_mape': [15.381254196166992,\n",
              "  14.45881462097168,\n",
              "  13.879322052001953,\n",
              "  13.640339851379395,\n",
              "  13.320405006408691,\n",
              "  12.976749420166016,\n",
              "  12.527180671691895,\n",
              "  12.160484313964844,\n",
              "  11.643312454223633,\n",
              "  11.140766143798828,\n",
              "  11.276283264160156,\n",
              "  10.548436164855957,\n",
              "  9.799891471862793,\n",
              "  9.66022777557373,\n",
              "  9.148292541503906],\n",
              " 'val_mse': [0.005046892911195755,\n",
              "  0.004652623552829027,\n",
              "  0.004457855597138405,\n",
              "  0.00427847309038043,\n",
              "  0.0038492088206112385,\n",
              "  0.0036063778679817915,\n",
              "  0.0033671266864985228,\n",
              "  0.0031935202423483133,\n",
              "  0.0029923496767878532,\n",
              "  0.0026916314382106066,\n",
              "  0.0027079058345407248,\n",
              "  0.0028386199846863747,\n",
              "  0.0023372897412627935,\n",
              "  0.0023286957293748856,\n",
              "  0.001915737404488027]}"
            ]
          },
          "metadata": {},
          "execution_count": 61
        }
      ],
      "source": [
        "history.history\n"
      ]
    },
    {
      "cell_type": "code",
      "execution_count": null,
      "metadata": {
        "id": "TAI4FGfqszyk"
      },
      "outputs": [],
      "source": [
        ""
      ]
    },
    {
      "cell_type": "code",
      "execution_count": null,
      "metadata": {
        "id": "BZoyhcO2szyk"
      },
      "outputs": [],
      "source": [
        ""
      ]
    },
    {
      "cell_type": "code",
      "execution_count": null,
      "metadata": {
        "id": "6ZnzFZ8wszyk"
      },
      "outputs": [],
      "source": [
        ""
      ]
    },
    {
      "cell_type": "code",
      "execution_count": null,
      "metadata": {
        "id": "ikp5A9jIszyl"
      },
      "outputs": [],
      "source": [
        ""
      ]
    },
    {
      "cell_type": "code",
      "execution_count": null,
      "metadata": {
        "id": "DZ6i4927szyl"
      },
      "outputs": [],
      "source": [
        ""
      ]
    },
    {
      "cell_type": "code",
      "execution_count": null,
      "metadata": {
        "id": "Iwl0VwN6szyl"
      },
      "outputs": [],
      "source": [
        ""
      ]
    },
    {
      "cell_type": "code",
      "execution_count": null,
      "metadata": {
        "id": "gTnRQhYyszyl"
      },
      "outputs": [],
      "source": [
        ""
      ]
    },
    {
      "cell_type": "code",
      "execution_count": null,
      "metadata": {
        "id": "amaSJGDXszyl"
      },
      "outputs": [],
      "source": [
        ""
      ]
    },
    {
      "cell_type": "code",
      "execution_count": null,
      "metadata": {
        "id": "VX8Qz4HUszyl"
      },
      "outputs": [],
      "source": [
        ""
      ]
    },
    {
      "cell_type": "code",
      "execution_count": null,
      "metadata": {
        "id": "MGPQ-Njxszyl"
      },
      "outputs": [],
      "source": [
        ""
      ]
    }
  ],
  "metadata": {
    "kernelspec": {
      "display_name": "Python 3",
      "language": "python",
      "name": "python3"
    },
    "language_info": {
      "codemirror_mode": {
        "name": "ipython",
        "version": 3
      },
      "file_extension": ".py",
      "mimetype": "text/x-python",
      "name": "python",
      "nbconvert_exporter": "python",
      "pygments_lexer": "ipython3",
      "version": "3.8.5"
    },
    "colab": {
      "name": "LSTM.ipynb",
      "provenance": []
    }
  },
  "nbformat": 4,
  "nbformat_minor": 0
}